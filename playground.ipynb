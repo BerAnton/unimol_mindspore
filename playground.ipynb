{
 "cells": [
  {
   "cell_type": "code",
   "execution_count": 2,
   "id": "05abe4b8",
   "metadata": {},
   "outputs": [],
   "source": [
    "%load_ext autoreload\n",
    "%autoreload 2"
   ]
  },
  {
   "cell_type": "code",
   "execution_count": 3,
   "id": "c2a94764",
   "metadata": {},
   "outputs": [],
   "source": [
    "import numpy as np\n",
    "import lmdb\n",
    "import mindspore as ms\n",
    "import mindspore.nn as nn\n",
    "from mindspore.dataset import GeneratorDataset\n",
    "\n",
    "from unimol.dataset.transforms import get_atom_vocab\n",
    "from unimol.dataset.lmdb_dataset import LMDBDataset\n",
    "from unimol.dataset.ligands_dataset import MoleculeDataset, molecule_collate_fn\n",
    "from unimol.model import UniMol\n",
    "from unimol.loss import MoleculePretrainLoss"
   ]
  },
  {
   "cell_type": "code",
   "execution_count": 4,
   "id": "ad0f4e40",
   "metadata": {},
   "outputs": [],
   "source": [
    "ms.set_context(device_target=\"Ascend\")"
   ]
  },
  {
   "cell_type": "code",
   "execution_count": 5,
   "id": "cc686f12",
   "metadata": {},
   "outputs": [],
   "source": [
    "ligands_dataset = MoleculeDataset(\"./example_data/molecule/train.lmdb\", \"./config/atom_vocab.txt\", is_train=True)"
   ]
  },
  {
   "cell_type": "code",
   "execution_count": 13,
   "id": "8b6a0440",
   "metadata": {},
   "outputs": [],
   "source": [
    "column_names = [\"masked_atoms\", \"masked_coords\", \"masked_distance\", \"edge_types\", \n",
    "                \"target_atoms\", \"coordinates\", \"distance\"]\n",
    "ms_dataset = GeneratorDataset(ligands_dataset, column_names=column_names, shuffle=True,\n",
    "                              python_multiprocessing=False)\n",
    "#datasets = ms_dataset.split([0.125, 0.125, 0.125, 0.125, 0.125, 0.125, 0.125, 0.125])\n",
    "#ms_dataset = datasets[0]"
   ]
  },
  {
   "cell_type": "code",
   "execution_count": 22,
   "id": "a15b210f",
   "metadata": {},
   "outputs": [
    {
     "data": {
      "text/plain": [
       "2354665"
      ]
     },
     "execution_count": 22,
     "metadata": {},
     "output_type": "execute_result"
    }
   ],
   "source": [
    "# ms_dataset.get_dataset_size()"
   ]
  },
  {
   "cell_type": "code",
   "execution_count": 20,
   "id": "8706892f",
   "metadata": {},
   "outputs": [
    {
     "data": {
      "text/plain": [
       "1"
      ]
     },
     "execution_count": 20,
     "metadata": {},
     "output_type": "execute_result"
    }
   ],
   "source": [
    "ms_dataset.num_parallel_workers"
   ]
  },
  {
   "cell_type": "code",
   "execution_count": 14,
   "id": "af7eb2ab",
   "metadata": {},
   "outputs": [],
   "source": [
    "batch_dataset = ms_dataset.batch(16, per_batch_map=molecule_collate_fn)"
   ]
  },
  {
   "cell_type": "code",
   "execution_count": null,
   "id": "fd975142",
   "metadata": {},
   "outputs": [],
   "source": [
    "set_dynamic_columns(), set_prefetch_size(), set_enable_shared_mem()"
   ]
  },
  {
   "cell_type": "code",
   "execution_count": 22,
   "id": "15968462",
   "metadata": {},
   "outputs": [
    {
     "name": "stdout",
     "output_type": "stream",
     "text": [
      "total traverse through dataset time: 6.038014650344849\n"
     ]
    }
   ],
   "source": [
    "import time\n",
    "start = time.time()\n",
    "for batch in batch_dataset.create_tuple_iterator():\n",
    "    pass\n",
    "total_time = time.time() - start\n",
    "print(f\"total traverse through dataset time: {total_time}\")"
   ]
  },
  {
   "cell_type": "code",
   "execution_count": 28,
   "id": "7382c24b",
   "metadata": {},
   "outputs": [
    {
     "data": {
      "text/plain": [
       "3.7262354683213763"
      ]
     },
     "execution_count": 28,
     "metadata": {},
     "output_type": "execute_result"
    }
   ],
   "source": [
    "total_time / 60 / 60"
   ]
  },
  {
   "cell_type": "markdown",
   "id": "b3d5ed61",
   "metadata": {},
   "source": [
    "on small dataset:\n",
    "parallel_workers = 8 (both), total time = 9.69 secs\n",
    "best results with no parallel_workers param, total_time = 5.79 secs\n",
    "on big dataset:\n",
    "experiments was conducted on 1/8th part of dataset, modelling data parallel process on 8 Ascend910"
   ]
  },
  {
   "cell_type": "code",
   "execution_count": null,
   "id": "83b15719",
   "metadata": {},
   "outputs": [],
   "source": [
    "steps_per_epoch = ms_dataset.get_dataset_size() / 8\n",
    "steps_per_epoch"
   ]
  },
  {
   "cell_type": "code",
   "execution_count": null,
   "id": "717f8161",
   "metadata": {},
   "outputs": [],
   "source": [
    "1000000 // steps_per_epoch + 1"
   ]
  },
  {
   "cell_type": "code",
   "execution_count": null,
   "id": "72825a96",
   "metadata": {},
   "outputs": [],
   "source": [
    "batch = next(dataset_iterator)"
   ]
  },
  {
   "cell_type": "code",
   "execution_count": null,
   "id": "0fba3021",
   "metadata": {},
   "outputs": [],
   "source": [
    "masked_atoms, masked_coords, masked_distance, edge_types, target_atoms, coordinates, distance = batch"
   ]
  },
  {
   "cell_type": "markdown",
   "id": "690e81ac",
   "metadata": {},
   "source": [
    "#### model debug"
   ]
  },
  {
   "cell_type": "code",
   "execution_count": null,
   "id": "51e18bbd",
   "metadata": {},
   "outputs": [],
   "source": [
    "def count_params(net):\n",
    "    total_params = 0\n",
    "    for param in net_trainable_params():\n",
    "        total_params += np.prod(param.shape)\n",
    "    return total_params"
   ]
  },
  {
   "cell_type": "code",
   "execution_count": null,
   "id": "60866683",
   "metadata": {},
   "outputs": [],
   "source": [
    "atom_dict = get_atom_vocab(\"./config/atom_vocab.txt\")\n",
    "atom_vocab = atom_dict.vocab()\n",
    "encoder_layers = 15\n",
    "encoder_emb_dim = 512\n",
    "encoder_ff_emb_dim = 2048\n",
    "encoder_attention_heads = 64\n",
    "gaus_kernel_channels = 128\n",
    "emb_dropout = 0.9\n",
    "dropout = 0.9\n",
    "attention_dropout = 0.9\n",
    "pooler_dropout = 0.9\n",
    "max_seq_len = 256"
   ]
  },
  {
   "cell_type": "code",
   "execution_count": null,
   "id": "e9c378b6",
   "metadata": {},
   "outputs": [],
   "source": [
    "model = UniMol(\n",
    "    atom_vocab, encoder_layers,\n",
    "    encoder_emb_dim, encoder_ff_emb_dim,\n",
    "    encoder_attention_heads, gaus_kernel_channels,\n",
    "    emb_dropout, dropout, attention_dropout, \n",
    "    pooler_dropout, max_seq_len\n",
    ")\n",
    "model.set_train(True)"
   ]
  },
  {
   "cell_type": "code",
   "execution_count": null,
   "id": "a5740a79",
   "metadata": {},
   "outputs": [],
   "source": [
    "token_logits, pred_coords, pred_distance, x_norm, pair_rep_norm = model(masked_atoms, masked_distance, masked_coords, edge_types, target_atoms)\n",
    "tokens, coordinates, distance = (target_atoms, coordinates, distance)"
   ]
  },
  {
   "cell_type": "code",
   "execution_count": null,
   "id": "370ac11a",
   "metadata": {},
   "outputs": [],
   "source": [
    "loss = MoleculePretrainLoss(atom_dict.vocab(), 1.0, 5.0, 10.0)"
   ]
  },
  {
   "cell_type": "code",
   "execution_count": null,
   "id": "e86f7d6d",
   "metadata": {},
   "outputs": [],
   "source": [
    "losses = loss(token_logits, pred_coords, pred_distance, x_norm, pair_rep_norm, tokens, coordinates, distance)"
   ]
  },
  {
   "cell_type": "code",
   "execution_count": null,
   "id": "e4d47f20",
   "metadata": {},
   "outputs": [],
   "source": [
    "losses"
   ]
  },
  {
   "cell_type": "code",
   "execution_count": null,
   "id": "e4415430",
   "metadata": {},
   "outputs": [],
   "source": []
  },
  {
   "cell_type": "code",
   "execution_count": null,
   "id": "6911ae11",
   "metadata": {},
   "outputs": [],
   "source": []
  },
  {
   "cell_type": "code",
   "execution_count": null,
   "id": "cd36cbe2",
   "metadata": {},
   "outputs": [],
   "source": []
  },
  {
   "cell_type": "code",
   "execution_count": null,
   "id": "b764e12b",
   "metadata": {},
   "outputs": [],
   "source": [
    "attention = nn.MultiHeadAttention()"
   ]
  },
  {
   "cell_type": "code",
   "execution_count": null,
   "id": "ec1237da",
   "metadata": {},
   "outputs": [],
   "source": []
  }
 ],
 "metadata": {
  "kernelspec": {
   "display_name": "Python 3 (ipykernel)",
   "language": "python",
   "name": "python3"
  },
  "language_info": {
   "codemirror_mode": {
    "name": "ipython",
    "version": 3
   },
   "file_extension": ".py",
   "mimetype": "text/x-python",
   "name": "python",
   "nbconvert_exporter": "python",
   "pygments_lexer": "ipython3",
   "version": "3.9.15"
  }
 },
 "nbformat": 4,
 "nbformat_minor": 5
}
